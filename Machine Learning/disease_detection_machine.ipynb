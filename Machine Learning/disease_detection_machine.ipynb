{
 "cells": [
  {
   "cell_type": "code",
   "execution_count": 15,
   "metadata": {},
   "outputs": [],
   "source": [
    "from skimage.util import img_as_ubyte\n",
    "from sklearn import svm\n",
    "import sklearn.model_selection as model_selection\n",
    "from sklearn.metrics import accuracy_score\n",
    "from sklearn.metrics import f1_score\n",
    "import cv2\n",
    "import os\n",
    "from skimage import io\n",
    "from skimage.feature import peak_local_max\n",
    "import math\n",
    "from matplotlib.pyplot import bar\n",
    "import matplotlib.pyplot as plt\n",
    "import numpy as np\n",
    "import glob\n",
    "import joblib\n",
    "from sklearn.ensemble import RandomForestClassifier\n",
    "import mahotas as mt\n",
    "from sklearn.metrics import accuracy_score\n",
    "from sklearn import preprocessing"
   ]
  },
  {
   "cell_type": "code",
   "execution_count": 2,
   "metadata": {},
   "outputs": [],
   "source": [
    "dictionary = {\n",
    "    # apple\n",
    "    0: 'Apple scab',\n",
    "    1: 'Black rot',\n",
    "    2: 'apple rust',\n",
    "    3: 'Apple is healthy',\n",
    "\n",
    "    # cherry\n",
    "    5: 'Cherry is healthy',\n",
    "    6: 'Powdery mildew',\n",
    "\n",
    "    # corn\n",
    "    7: 'Gray leaf spot',\n",
    "    8: 'Common rust',\n",
    "    9: 'Corn is healthy',\n",
    "    10: 'Northern Leaf Blight',\n",
    "\n",
    "    # grape\n",
    "    11: 'Black rot',\n",
    "    12: 'Black Measles',\n",
    "    13: 'Grape is healthy',\n",
    "    14: 'Leaf blight',\n",
    "\n",
    "    # peach\n",
    "    16: 'Bacterial spot',\n",
    "    17: 'Peach is healthy',\n",
    "\n",
    "    # pepper\n",
    "    18: 'Bacterial spot',\n",
    "    19: 'Pepper is healthy',\n",
    "\n",
    "    # potato\n",
    "    20: 'Early blight',\n",
    "    21: 'Potato is healthy',\n",
    "    22: 'Late blight',\n",
    "\n",
    "    # Strawberry\n",
    "    26: 'Strawberry is healthy',\n",
    "    27: 'Leaf scorch',\n",
    "\n",
    "    # Tomato\n",
    "    28: 'Bacterial spot',\n",
    "    29: 'Early blight',\n",
    "    30: 'Tomato is healthy',\n",
    "    31: 'Late blight',\n",
    "    32: 'Leaf Moldy',\n",
    "    33: 'Septoria leaf spot',\n",
    "    34: 'Two-spotted spider mite',\n",
    "    35: 'Target Spot disease',\n",
    "    36: 'Tomato mosaic virus',\n",
    "    37: 'Tomato Yellow Leaf Curl Virus',\n",
    "}"
   ]
  },
  {
   "cell_type": "code",
   "execution_count": 107,
   "metadata": {},
   "outputs": [
    {
     "name": "stdout",
     "output_type": "stream",
     "text": [
      "Strawberry___healthy\n",
      "Strawberry___Leaf_scorch\n"
     ]
    }
   ],
   "source": [
    "x_train = []\n",
    "y_train = []\n",
    "nums = []\n",
    "def label_folder(folder_path, label):\n",
    "    images = []\n",
    "    labels = []\n",
    "    num = 0\n",
    "    for img_path in os.listdir(folder_path):\n",
    "        num +=1\n",
    "        if img_path.endswith('.jpg') or img_path.endswith('.png') or img_path.endswith('.jpeg') or img_path.endswith('.JPG'):\n",
    "            img = io.imread(str(folder_path)+'/'+str(img_path))\n",
    "            images.append(img)\n",
    "            labels.append([label])\n",
    "        else: \n",
    "            print(img_path)\n",
    "\n",
    "    nums.append(num)\n",
    "    x_train.extend(images)\n",
    "    y_train.extend(labels)\n",
    "    \n",
    "## load data\n",
    "for i in range (26, 28):\n",
    "    folder_path = os.path.join('D://4th year//gp//plantvillage dataset//color', dictionary[i])\n",
    "    print(dictionary[i])\n",
    "    label_folder(folder_path , i)"
   ]
  },
  {
   "cell_type": "code",
   "execution_count": 9,
   "metadata": {},
   "outputs": [
    {
     "data": {
      "image/png": "[encoded data removed]",
      "text/plain": [
       "<Figure size 720x360 with 1 Axes>"
      ]
     },
     "metadata": {
      "needs_background": "light"
     },
     "output_type": "display_data"
    }
   ],
   "source": [
    "\n",
    "values = list(dictionary.keys())\n",
    "fig = plt.figure(figsize = (10, 5))\n",
    " \n",
    "# creating the bar plot\n",
    "plt.bar(values, nums, color ='maroon',width = 0.2)\n",
    "plt.show()"
   ]
  },
  {
   "cell_type": "code",
   "execution_count": 6,
   "metadata": {},
   "outputs": [],
   "source": [
    "def extract_hu_features(image):\n",
    "    gray_img= cv2.cvtColor(image,cv2.COLOR_BGR2GRAY)\n",
    "    moments = cv2.moments(gray_img)\n",
    "    huMoments = cv2.HuMoments(moments)\n",
    "    huMoments_new = []\n",
    "    for i in range(0,7):\n",
    "        moment = -1* math.copysign(1.0, huMoments[i]) * math.log10(abs(huMoments[i]))\n",
    "        huMoments_new.append(\"{:.8f}\".format(moment))\n",
    "    return huMoments_new"
   ]
  },
  {
   "cell_type": "code",
   "execution_count": 7,
   "metadata": {},
   "outputs": [],
   "source": [
    "def extract_haralick_features(image):\n",
    "    # calculate haralick texture features for 4 types of adjacency\n",
    "    textures = mt.features.haralick(image)\n",
    "    # take the mean of it and return it\n",
    "    ht_mean = textures.mean(axis=0)\n",
    "    return ht_mean"
   ]
  },
  {
   "cell_type": "code",
   "execution_count": 9,
   "metadata": {},
   "outputs": [],
   "source": [
    "def AssignBit(image, x, y, c):   \n",
    "    bit = 0  \n",
    "    try:          \n",
    "        if image[x][y] >= c: \n",
    "            bit = 1         \n",
    "    except: \n",
    "        pass\n",
    "    return bit\n",
    "\n",
    "\n",
    "# takes an image and returns an LBP value\n",
    "def LocalBinaryValue(image, x, y): \n",
    "    eight_bit_binary = []\n",
    "    centre = image[x][y] \n",
    "    powers = [1, 2, 4, 8, 16, 32, 64, 128] \n",
    "    decimal_val = 0\n",
    "    #starting from top right,assigning bit to pixels clockwise \n",
    "    eight_bit_binary.append(AssignBit(image, x-1, y + 1,centre)) \n",
    "    eight_bit_binary.append(AssignBit(image, x, y + 1, centre)) \n",
    "    eight_bit_binary.append(AssignBit(image, x + 1, y + 1, centre)) \n",
    "    eight_bit_binary.append(AssignBit(image, x + 1, y, centre)) \n",
    "    eight_bit_binary.append(AssignBit(image, x + 1, y-1, centre)) \n",
    "    eight_bit_binary.append(AssignBit(image, x, y-1, centre)) \n",
    "    eight_bit_binary.append(AssignBit(image, x-1, y-1, centre)) \n",
    "    eight_bit_binary.append(AssignBit(image, x-1, y, centre))     \n",
    "    #calculating decimal value of the 8-bit binary number\n",
    "    for i in range(len(eight_bit_binary)): \n",
    "        decimal_val += eight_bit_binary[i] * powers[i] \n",
    "\n",
    "    return decimal_val\n",
    "\n",
    "\n",
    "# returns histogram of LBP image from gray image \n",
    "def extract_LBP_features(image):\n",
    "    m, n,_= image.shape \n",
    "    gray_img = (cv2.cvtColor(image,cv2.COLOR_BGR2GRAY) * 255).astype(np.uint8)  \n",
    "    lbp_img = np.zeros((m, n),np.uint8) \n",
    "  # converting image to lbp\n",
    "    for i in range(0,m): \n",
    "        for j in range(0,n): \n",
    "            lbp_img[i, j] = LocalBinaryValue(gray_img, i, j) \n",
    "    hist_lbp = np.histogram(lbp_img, bins=20)[0]\n",
    "\n",
    "    return hist_lbp"
   ]
  },
  {
   "cell_type": "code",
   "execution_count": 10,
   "metadata": {},
   "outputs": [],
   "source": [
    "gamma = 0.5\n",
    "sigma = 0.56\n",
    "theta_list = [0, np.pi, np.pi/2, np.pi/4, 3*np.pi/4] \n",
    "phi = 0\n",
    "lamda_list = [2*np.pi/1, 2*np.pi/2, 2*np.pi/3, 2*np.pi/4, 2*np.pi/5] \n",
    "def gabor(img):    \n",
    "    gray_img= cv2.cvtColor(img,cv2.COLOR_BGR2GRAY)    \n",
    "    local_energy_list=[]\n",
    "    mean_ampl_list=[]\n",
    "    for theta in theta_list:                \n",
    "        for lamda in lamda_list:\n",
    "            kernel=cv2.getGaborKernel((3,3),sigma,theta,lamda,gamma,phi,ktype=cv2.CV_32F)\n",
    "            fimage = cv2.filter2D(gray_img.astype(np.uint8), cv2.CV_8UC3, kernel)\n",
    "            mean_ampl=np.sum(abs(fimage))\n",
    "            mean_ampl_list.append(mean_ampl)\n",
    "            local_energy=np.sum(fimage**2)\n",
    "            local_energy_list.append(local_energy)\n",
    "            local_energy_list.extend(mean_ampl_list)\n",
    "    return local_energy_list"
   ]
  },
  {
   "cell_type": "code",
   "execution_count": 1,
   "metadata": {},
   "outputs": [],
   "source": [
    "def ColorHistogram(img):\n",
    "    features = []        \n",
    "    data = np.vstack((img[:,:,0].flat, img[:,:,1].flat, img[:,:,2].flat)).astype(np.uint8).T                                \n",
    "    hist, _ = np.histogramdd(data, bins=8, range=((0,256),(0,256),(0,256)))\n",
    "    hist = hist / (np.linalg.norm(hist) + 1e-16)\n",
    "    hist= hist.flatten()\n",
    "    features.extend(hist)\n",
    "    return features"
   ]
  },
  {
   "cell_type": "code",
   "execution_count": 25,
   "metadata": {},
   "outputs": [],
   "source": [
    "def extract_all(images):\n",
    "    hu_features = []\n",
    "    haralick_features = []\n",
    "    LBP_features = []\n",
    "    gabor_features = []\n",
    "    ColorHistogram_features = []\n",
    "    \n",
    "    for img in images:\n",
    "        hu_features.append(extract_hu_features(img))\n",
    "        haralick_features.append(extract_haralick_features(img))\n",
    "        LBP_features.append(extract_LBP_features(img))\n",
    "        gabor_features.append(gabor(img))\n",
    "        ColorHistogram_features.append(ColorHistogram(img))\n",
    "        \n",
    "    return hu_features, haralick_features, LBP_features, gabor_features, ColorHistogram_features\n",
    "        "
   ]
  },
  {
   "cell_type": "code",
   "execution_count": 108,
   "metadata": {},
   "outputs": [],
   "source": [
    "\n",
    "hu_features, haralick_features, LBP_features, gabor_features, ColorHistogram_features = extract_all(x_train)"
   ]
  },
  {
   "cell_type": "code",
   "execution_count": 109,
   "metadata": {},
   "outputs": [],
   "source": [
    "LBP_features = preprocessing.normalize(LBP_features)\n",
    "hu_features = preprocessing.normalize(hu_features)\n",
    "haralick_features = preprocessing.normalize(haralick_features)\n",
    "gabor_features = preprocessing.normalize(gabor_features)\n",
    "ColorHistogram_features = preprocessing.normalize(ColorHistogram_features)"
   ]
  },
  {
   "cell_type": "code",
   "execution_count": 110,
   "metadata": {},
   "outputs": [],
   "source": [
    "data_frame = np.hstack((y_train, LBP_features, hu_features, haralick_features, gabor_features, ColorHistogram_features))\n",
    "np.random.shuffle(data_frame)\n",
    "percentage = 80\n",
    "partition = int(len(hu_features)*0.8)\n",
    "\n",
    "train_valid_images, test_images = data_frame[:partition, 1:], data_frame[partition:, 1:]\n",
    "train_valid_labels, test_labels = data_frame[:partition, 0].ravel(), data_frame[partition:, 0].ravel()\n",
    "\n",
    "partition2 = int(len(train_valid_images)*0.8)\n",
    "train_images, valid_images = train_valid_images[:partition2, :], train_valid_images[partition2:, :]\n",
    "train_labels, valid_labels = train_valid_labels[0:partition2].ravel(), train_valid_labels[partition2: len(train_valid_labels)].ravel()\n"
   ]
  },
  {
   "cell_type": "markdown",
   "metadata": {},
   "source": [
    "## SVM models"
   ]
  },
  {
   "cell_type": "code",
   "execution_count": 37,
   "metadata": {},
   "outputs": [
    {
     "name": "stdout",
     "output_type": "stream",
     "text": [
      "Accuracy (model):  95.47\n"
     ]
    }
   ],
   "source": [
    "## Apple\n",
    "Apple_classifier = svm.SVC(kernel='rbf', degree=3, C=5, probability=True).fit(train_images, train_labels)\n",
    "total_probabiliy = Apple_classifier.predict_proba(valid_images)\n",
    "probabiliy_valid = np.argmax(total_probabiliy, axis=1)\n",
    "valid_labels2 = valid_labels.astype(int)\n",
    "clf_accuracy = accuracy_score(valid_labels2, probabiliy_valid)\n",
    "print('Accuracy (model): ', \"%.2f\" % (clf_accuracy*100))"
   ]
  },
  {
   "cell_type": "code",
   "execution_count": 25,
   "metadata": {},
   "outputs": [
    {
     "data": {
      "text/plain": [
       "['models/Apple.joblib']"
      ]
     },
     "execution_count": 25,
     "metadata": {},
     "output_type": "execute_result"
    }
   ],
   "source": [
    "Apple_classifier = svm.SVC(kernel='rbf', degree=3, C=5, probability=True).fit(train_valid_images, train_valid_labels)\n",
    "total_probabiliy = Apple_classifier.predict_proba(test_images)\n",
    "probabiliy_valid = np.argmax(total_probabiliy, axis=1)\n",
    "test_labels = test_labels.astype(int)\n",
    "clf_accuracy = accuracy_score(test_labels, probabiliy_valid)\n",
    "print('Accuracy (model): ', \"%.2f\" % (clf_accuracy*100))"
   ]
  },
  {
   "cell_type": "code",
   "execution_count": 44,
   "metadata": {},
   "outputs": [
    {
     "name": "stdout",
     "output_type": "stream",
     "text": [
      "Accuracy (model):  99.67\n"
     ]
    }
   ],
   "source": [
    "## cherry\n",
    "cherry_classifier = svm.SVC(kernel='rbf', degree=3, C=5, probability=True).fit(train_images, train_labels)\n",
    "total_probabiliy = cherry_classifier.predict_proba(valid_images)\n",
    "probabiliy_valid = np.argmax(total_probabiliy, axis=1)+5\n",
    "valid_labels2 = valid_labels.astype(int)\n",
    "clf_accuracy = accuracy_score(valid_labels2, probabiliy_valid)\n",
    "print('Accuracy (model): ', \"%.2f\" % (clf_accuracy*100))"
   ]
  },
  {
   "cell_type": "code",
   "execution_count": 33,
   "metadata": {},
   "outputs": [
    {
     "data": {
      "text/plain": [
       "['models/cherry.joblib']"
      ]
     },
     "execution_count": 33,
     "metadata": {},
     "output_type": "execute_result"
    }
   ],
   "source": [
    "cherry_classifier = svm.SVC(kernel='rbf', degree=3, C=5, probability=True).fit(train_valid_images, train_valid_labels)\n",
    "total_probabiliy = cherry_classifier.predict_proba(test_images)\n",
    "probabiliy_valid = np.argmax(total_probabiliy, axis=1)\n",
    "test_labels = test_labels.astype(int)\n",
    "clf_accuracy = accuracy_score(test_labels, probabiliy_valid)\n",
    "print('Accuracy (model): ', \"%.2f\" % (clf_accuracy*100))"
   ]
  },
  {
   "cell_type": "code",
   "execution_count": 52,
   "metadata": {},
   "outputs": [
    {
     "name": "stdout",
     "output_type": "stream",
     "text": [
      "Accuracy (model):  93.19\n"
     ]
    }
   ],
   "source": [
    "## corn\n",
    "corn_classifier = svm.SVC(kernel='rbf', degree=3, C=5, probability=True).fit(train_images, train_labels)\n",
    "total_probabiliy = corn_classifier.predict_proba(valid_images)\n",
    "probabiliy_valid = np.argmax(total_probabiliy, axis=1)+7\n",
    "valid_labels2 = valid_labels.astype(int)\n",
    "clf_accuracy = accuracy_score(valid_labels2, probabiliy_valid)\n",
    "print('Accuracy (model): ', \"%.2f\" % (clf_accuracy*100))"
   ]
  },
  {
   "cell_type": "code",
   "execution_count": null,
   "metadata": {},
   "outputs": [],
   "source": [
    "corn_classifier = svm.SVC(kernel='rbf', degree=3, C=5, probability=True).fit(train_valid_images, train_valid_labels)\n",
    "total_probabiliy = corn_classifier.predict_proba(test_images)\n",
    "probabiliy_valid = np.argmax(total_probabiliy, axis=1)\n",
    "test_labels = test_labels.astype(int)\n",
    "clf_accuracy = accuracy_score(test_labels, probabiliy_valid)\n",
    "print('Accuracy (model): ', \"%.2f\" % (clf_accuracy*100))"
   ]
  },
  {
   "cell_type": "code",
   "execution_count": 59,
   "metadata": {},
   "outputs": [
    {
     "name": "stdout",
     "output_type": "stream",
     "text": [
      "Accuracy (model):  94.46\n"
     ]
    }
   ],
   "source": [
    "## grape \n",
    "Grape_classifier = svm.SVC(kernel='rbf', degree=3, C=5, probability=True).fit(train_images, train_labels)\n",
    "total_probabiliy = Grape_classifier.predict_proba(valid_images)\n",
    "probabiliy_valid = np.argmax(total_probabiliy, axis=1)+11\n",
    "valid_labels2 = valid_labels.astype(int)\n",
    "clf_accuracy = accuracy_score(valid_labels2, probabiliy_valid)\n",
    "print('Accuracy (model): ', \"%.2f\" % (clf_accuracy*100))"
   ]
  },
  {
   "cell_type": "code",
   "execution_count": 61,
   "metadata": {},
   "outputs": [
    {
     "name": "stdout",
     "output_type": "stream",
     "text": [
      "Accuracy (model):  93.73\n"
     ]
    }
   ],
   "source": [
    "grape_classifier = svm.SVC(kernel='rbf', degree=3, C=5, probability=True).fit(train_valid_images, train_valid_labels)\n",
    "total_probabiliy = grape_classifier.predict_proba(test_images)\n",
    "probabiliy_valid = np.argmax(total_probabiliy, axis=1)+11\n",
    "test_labels = test_labels.astype(int)\n",
    "clf_accuracy = accuracy_score(test_labels, probabiliy_valid)\n",
    "print('Accuracy (model): ', \"%.2f\" % (clf_accuracy*100))"
   ]
  },
  {
   "cell_type": "code",
   "execution_count": 78,
   "metadata": {},
   "outputs": [
    {
     "name": "stdout",
     "output_type": "stream",
     "text": [
      "Accuracy (model):  99.53\n"
     ]
    }
   ],
   "source": [
    "## peach\n",
    "Peach_classifier = svm.SVC(kernel='rbf', degree=3, C=5, probability=True).fit(train_images, train_labels)\n",
    "total_probabiliy = Peach_classifier.predict_proba(valid_images)\n",
    "probabiliy_valid = np.argmax(total_probabiliy, axis=1)+16\n",
    "valid_labels2 = valid_labels.astype(int)\n",
    "clf_accuracy = accuracy_score(valid_labels2, probabiliy_valid)\n",
    "print('Accuracy (model): ', \"%.2f\" % (clf_accuracy*100))"
   ]
  },
  {
   "cell_type": "code",
   "execution_count": 66,
   "metadata": {},
   "outputs": [
    {
     "data": {
      "text/plain": [
       "['models/peach.joblib']"
      ]
     },
     "execution_count": 66,
     "metadata": {},
     "output_type": "execute_result"
    }
   ],
   "source": [
    "peach_classifier = svm.SVC(kernel='rbf', degree=3, C=5, probability=True).fit(train_valid_images, train_valid_labels)\n",
    "total_probabiliy = peach_classifier.predict_proba(test_images)\n",
    "probabiliy_valid = np.argmax(total_probabiliy, axis=1)+16\n",
    "test_labels = test_labels.astype(int)\n",
    "clf_accuracy = accuracy_score(test_labels, probabiliy_valid)\n",
    "print('Accuracy (model): ', \"%.2f\" % (clf_accuracy*100))"
   ]
  },
  {
   "cell_type": "code",
   "execution_count": 85,
   "metadata": {},
   "outputs": [
    {
     "name": "stdout",
     "output_type": "stream",
     "text": [
      "Accuracy (model):  97.47\n"
     ]
    }
   ],
   "source": [
    "## Pepper\n",
    "Pepper_classifier = svm.SVC(kernel='rbf', degree=3, C=5, probability=True).fit(train_images, train_labels)\n",
    "total_probabiliy = Pepper_classifier.predict_proba(valid_images)\n",
    "probabiliy_valid = np.argmax(total_probabiliy, axis=1)+18\n",
    "valid_labels2 = valid_labels.astype(int)\n",
    "clf_accuracy = accuracy_score(valid_labels2, probabiliy_valid)\n",
    "print('Accuracy (model): ', \"%.2f\" % (clf_accuracy*100))"
   ]
  },
  {
   "cell_type": "code",
   "execution_count": 87,
   "metadata": {},
   "outputs": [
    {
     "name": "stdout",
     "output_type": "stream",
     "text": [
      "Accuracy (model):  96.57\n"
     ]
    }
   ],
   "source": [
    "Pepper_classifier = svm.SVC(kernel='rbf', degree=3, C=5, probability=True).fit(train_valid_images, train_valid_labels)\n",
    "total_probabiliy = Pepper_classifier.predict_proba(test_images)\n",
    "probabiliy_valid = np.argmax(total_probabiliy, axis=1)+18\n",
    "test_labels = test_labels.astype(int)\n",
    "clf_accuracy = accuracy_score(test_labels, probabiliy_valid)\n",
    "print('Accuracy (model): ', \"%.2f\" % (clf_accuracy*100))"
   ]
  },
  {
   "cell_type": "code",
   "execution_count": 101,
   "metadata": {},
   "outputs": [
    {
     "name": "stdout",
     "output_type": "stream",
     "text": [
      "Accuracy (model):  97.10\n"
     ]
    }
   ],
   "source": [
    "## Potato\n",
    "Potato_classifier = svm.SVC(kernel='rbf', degree=3, C=5, probability=True).fit(train_images, train_labels)\n",
    "total_probabiliy = Potato_classifier.predict_proba(valid_images)\n",
    "probabiliy_valid = np.argmax(total_probabiliy, axis=1)+20\n",
    "valid_labels2 = valid_labels.astype(int)\n",
    "clf_accuracy = accuracy_score(valid_labels2, probabiliy_valid)\n",
    "print('Accuracy (model): ', \"%.2f\" % (clf_accuracy*100))"
   ]
  },
  {
   "cell_type": "code",
   "execution_count": 102,
   "metadata": {},
   "outputs": [
    {
     "name": "stdout",
     "output_type": "stream",
     "text": [
      "Accuracy (model):  97.91\n"
     ]
    }
   ],
   "source": [
    "Potato_classifier = svm.SVC(kernel='rbf', degree=3, C=5, probability=True).fit(train_valid_images, train_valid_labels)\n",
    "total_probabiliy = Potato_classifier.predict_proba(test_images)\n",
    "probabiliy_valid = np.argmax(total_probabiliy, axis=1)+20\n",
    "test_labels = test_labels.astype(int)\n",
    "clf_accuracy = accuracy_score(test_labels, probabiliy_valid)\n",
    "print('Accuracy (model): ', \"%.2f\" % (clf_accuracy*100))"
   ]
  },
  {
   "cell_type": "code",
   "execution_count": 112,
   "metadata": {},
   "outputs": [
    {
     "name": "stdout",
     "output_type": "stream",
     "text": [
      "Accuracy (model):  97.61\n"
     ]
    }
   ],
   "source": [
    "## Strawberry\n",
    "Strawberry_classifier = svm.SVC(kernel='rbf', degree=3, C=5, probability=True).fit(train_images, train_labels)\n",
    "total_probabiliy = Strawberry_classifier.predict_proba(valid_images)\n",
    "probabiliy_valid = np.argmax(total_probabiliy, axis=1)+26\n",
    "valid_labels2 = valid_labels.astype(int)\n",
    "clf_accuracy = accuracy_score(valid_labels2, probabiliy_valid)\n",
    "print('Accuracy (model): ', \"%.2f\" % (clf_accuracy*100))"
   ]
  },
  {
   "cell_type": "code",
   "execution_count": null,
   "metadata": {},
   "outputs": [],
   "source": [
    "Strawberry_classifier = svm.SVC(kernel='rbf', degree=3, C=5, probability=True).fit(train_valid_images, train_valid_labels)\n",
    "total_probabiliy = Strawberry_classifier.predict_proba(test_images)\n",
    "probabiliy_valid = np.argmax(total_probabiliy, axis=1)+26\n",
    "test_labels = test_labels.astype(int)\n",
    "clf_accuracy = accuracy_score(test_labels, probabiliy_valid)\n",
    "print('Accuracy (model): ', \"%.2f\" % (clf_accuracy*100))"
   ]
  },
  {
   "cell_type": "code",
   "execution_count": 71,
   "metadata": {},
   "outputs": [
    {
     "name": "stdout",
     "output_type": "stream",
     "text": [
      "Accuracy (model):  93.36\n"
     ]
    }
   ],
   "source": [
    "## Tomato\n",
    "Tomato_classifier = svm.SVC(kernel='rbf', degree=3, C=5, probability=True).fit(train_images, train_labels)\n",
    "total_probabiliy = Tomato_classifier.predict_proba(valid_images)\n",
    "probabiliy_valid = np.argmax(total_probabiliy, axis=1)+28\n",
    "valid_labels2 = valid_labels.astype(int)\n",
    "clf_accuracy = accuracy_score(valid_labels2, probabiliy_valid)\n",
    "print('Accuracy (model): ', \"%.2f\" % (clf_accuracy*100))"
   ]
  },
  {
   "cell_type": "code",
   "execution_count": 72,
   "metadata": {},
   "outputs": [
    {
     "name": "stdout",
     "output_type": "stream",
     "text": [
      "Accuracy (model):  93.42\n"
     ]
    }
   ],
   "source": [
    "Tomato_classifier = svm.SVC(kernel='rbf', degree=3, C=5, probability=True).fit(train_valid_images, train_valid_labels)\n",
    "total_probabiliy = Tomato_classifier.predict_proba(test_images)\n",
    "probabiliy_valid = np.argmax(total_probabiliy, axis=1)+28\n",
    "test_labels = test_labels.astype(int)\n",
    "clf_accuracy = accuracy_score(test_labels, probabiliy_valid)\n",
    "print('Accuracy (model): ', \"%.2f\" % (clf_accuracy*100))"
   ]
  },
  {
   "cell_type": "markdown",
   "metadata": {},
   "source": [
    "## RF models"
   ]
  },
  {
   "cell_type": "code",
   "execution_count": 38,
   "metadata": {},
   "outputs": [
    {
     "name": "stdout",
     "output_type": "stream",
     "text": [
      "Accuracy (Polynomial Kernel):  96.46\n",
      "F1 (Polynomial Kernel):  96.48\n"
     ]
    }
   ],
   "source": [
    "### Apple\n",
    "voting_clf = RandomForestClassifier(max_depth=60, random_state=0)\n",
    "Apple_clf = voting_clf.fit(train_images, train_labels)\n",
    "poly_pred = Apple_clf.predict(valid_images)\n",
    "poly_accuracy = accuracy_score(valid_labels, poly_pred)\n",
    "poly_f1 = f1_score(valid_labels, poly_pred, average='weighted')\n",
    "print('Accuracy (Polynomial Kernel): ', \"%.2f\" % (poly_accuracy*100))\n",
    "print('F1 (Polynomial Kernel): ', \"%.2f\" % (poly_f1*100))"
   ]
  },
  {
   "cell_type": "code",
   "execution_count": 39,
   "metadata": {},
   "outputs": [
    {
     "name": "stdout",
     "output_type": "stream",
     "text": [
      "Accuracy (Polynomial Kernel):  97.48\n",
      "F1 (Polynomial Kernel):  97.47\n"
     ]
    },
    {
     "data": {
      "text/plain": [
       "['models/Apple.joblib']"
      ]
     },
     "execution_count": 39,
     "metadata": {},
     "output_type": "execute_result"
    }
   ],
   "source": [
    "Apple_clf = voting_clf.fit(train_valid_images, train_valid_labels)\n",
    "poly_pred = Apple_clf.predict(test_images)\n",
    "poly_accuracy = accuracy_score(test_labels, poly_pred)\n",
    "poly_f1 = f1_score(test_labels, poly_pred, average='weighted')\n",
    "print('Accuracy (Polynomial Kernel): ', \"%.2f\" % (poly_accuracy*100))\n",
    "print('F1 (Polynomial Kernel): ', \"%.2f\" % (poly_f1*100))\n",
    "\n",
    "Apple_file_name = \"models/Apple.joblib\"\n",
    "joblib.dump(Apple_clf, Apple_file_name)"
   ]
  },
  {
   "cell_type": "code",
   "execution_count": 45,
   "metadata": {},
   "outputs": [
    {
     "name": "stdout",
     "output_type": "stream",
     "text": [
      "Accuracy (Polynomial Kernel):  99.67\n",
      "F1 (Polynomial Kernel):  99.67\n"
     ]
    }
   ],
   "source": [
    "### cherry\n",
    "voting_clf = RandomForestClassifier(max_depth=60, random_state=0)\n",
    "cherry_clf = voting_clf.fit(train_images, train_labels)\n",
    "poly_pred = cherry_clf.predict(valid_images)\n",
    "poly_accuracy = accuracy_score(valid_labels, poly_pred)\n",
    "poly_f1 = f1_score(valid_labels, poly_pred, average='weighted')\n",
    "print('Accuracy (Polynomial Kernel): ', \"%.2f\" % (poly_accuracy*100))\n",
    "print('F1 (Polynomial Kernel): ', \"%.2f\" % (poly_f1*100))"
   ]
  },
  {
   "cell_type": "code",
   "execution_count": 46,
   "metadata": {},
   "outputs": [
    {
     "name": "stdout",
     "output_type": "stream",
     "text": [
      "Accuracy (Polynomial Kernel):  99.74\n",
      "F1 (Polynomial Kernel):  99.74\n"
     ]
    },
    {
     "data": {
      "text/plain": [
       "['models/cherry.joblib']"
      ]
     },
     "execution_count": 46,
     "metadata": {},
     "output_type": "execute_result"
    }
   ],
   "source": [
    "cherry_clf = voting_clf.fit(train_valid_images, train_valid_labels)\n",
    "poly_pred = cherry_clf.predict(test_images)\n",
    "poly_accuracy = accuracy_score(test_labels, poly_pred)\n",
    "poly_f1 = f1_score(test_labels, poly_pred, average='weighted')\n",
    "print('Accuracy (Polynomial Kernel): ', \"%.2f\" % (poly_accuracy*100))\n",
    "print('F1 (Polynomial Kernel): ', \"%.2f\" % (poly_f1*100))\n",
    "\n",
    "cherry_file_name = \"models/cherry.joblib\"\n",
    "joblib.dump(cherry_clf, cherry_file_name)"
   ]
  },
  {
   "cell_type": "code",
   "execution_count": 53,
   "metadata": {},
   "outputs": [
    {
     "name": "stdout",
     "output_type": "stream",
     "text": [
      "Accuracy (Polynomial Kernel):  94.33\n",
      "F1 (Polynomial Kernel):  93.89\n"
     ]
    }
   ],
   "source": [
    "### corn\n",
    "voting_clf = RandomForestClassifier(max_depth=60, random_state=0)\n",
    "corn_clf = voting_clf.fit(train_images, train_labels)\n",
    "poly_pred = corn_clf.predict(valid_images)\n",
    "poly_accuracy = accuracy_score(valid_labels, poly_pred)\n",
    "poly_f1 = f1_score(valid_labels, poly_pred, average='weighted')\n",
    "print('Accuracy (Polynomial Kernel): ', \"%.2f\" % (poly_accuracy*100))\n",
    "print('F1 (Polynomial Kernel): ', \"%.2f\" % (poly_f1*100))"
   ]
  },
  {
   "cell_type": "code",
   "execution_count": 54,
   "metadata": {},
   "outputs": [
    {
     "name": "stdout",
     "output_type": "stream",
     "text": [
      "Accuracy (Polynomial Kernel):  93.90\n",
      "F1 (Polynomial Kernel):  93.56\n"
     ]
    },
    {
     "data": {
      "text/plain": [
       "['models/corn.joblib']"
      ]
     },
     "execution_count": 54,
     "metadata": {},
     "output_type": "execute_result"
    }
   ],
   "source": [
    "corn_clf = voting_clf.fit(train_valid_images, train_valid_labels)\n",
    "poly_pred = corn_clf.predict(test_images)\n",
    "poly_accuracy = accuracy_score(test_labels, poly_pred)\n",
    "poly_f1 = f1_score(test_labels, poly_pred, average='weighted')\n",
    "print('Accuracy (Polynomial Kernel): ', \"%.2f\" % (poly_accuracy*100))\n",
    "print('F1 (Polynomial Kernel): ', \"%.2f\" % (poly_f1*100))\n",
    "\n",
    "corn_file_name = \"models/corn.joblib\"\n",
    "joblib.dump(corn_clf, corn_file_name)"
   ]
  },
  {
   "cell_type": "code",
   "execution_count": 62,
   "metadata": {},
   "outputs": [
    {
     "name": "stdout",
     "output_type": "stream",
     "text": [
      "Accuracy (Polynomial Kernel):  96.92\n",
      "F1 (Polynomial Kernel):  96.93\n"
     ]
    }
   ],
   "source": [
    "### grape\n",
    "voting_clf = RandomForestClassifier(max_depth=60, random_state=0)\n",
    "grape_clf = voting_clf.fit(train_images, train_labels)\n",
    "poly_pred = grape_clf.predict(valid_images)\n",
    "poly_accuracy = accuracy_score(valid_labels, poly_pred)\n",
    "poly_f1 = f1_score(valid_labels, poly_pred, average='weighted')\n",
    "print('Accuracy (Polynomial Kernel): ', \"%.2f\" % (poly_accuracy*100))\n",
    "print('F1 (Polynomial Kernel): ', \"%.2f\" % (poly_f1*100))"
   ]
  },
  {
   "cell_type": "code",
   "execution_count": 63,
   "metadata": {},
   "outputs": [
    {
     "name": "stdout",
     "output_type": "stream",
     "text": [
      "Accuracy (Polynomial Kernel):  97.79\n",
      "F1 (Polynomial Kernel):  97.79\n"
     ]
    },
    {
     "data": {
      "text/plain": [
       "['models/grape.joblib']"
      ]
     },
     "execution_count": 63,
     "metadata": {},
     "output_type": "execute_result"
    }
   ],
   "source": [
    "grape_clf = voting_clf.fit(train_valid_images, train_valid_labels)\n",
    "poly_pred = grape_clf.predict(test_images)\n",
    "poly_accuracy = accuracy_score(test_labels, poly_pred)\n",
    "poly_f1 = f1_score(test_labels, poly_pred, average='weighted')\n",
    "print('Accuracy (Polynomial Kernel): ', \"%.2f\" % (poly_accuracy*100))\n",
    "print('F1 (Polynomial Kernel): ', \"%.2f\" % (poly_f1*100))\n",
    "\n",
    "grape_file_name = \"models/grape.joblib\"\n",
    "joblib.dump(grape_clf, grape_file_name)"
   ]
  },
  {
   "cell_type": "code",
   "execution_count": 79,
   "metadata": {},
   "outputs": [
    {
     "name": "stdout",
     "output_type": "stream",
     "text": [
      "Accuracy (Polynomial Kernel):  99.29\n",
      "F1 (Polynomial Kernel):  99.29\n"
     ]
    }
   ],
   "source": [
    "### peach\n",
    "voting_clf = RandomForestClassifier(max_depth=60, random_state=0)\n",
    "peach_clf = voting_clf.fit(train_images, train_labels)\n",
    "poly_pred = peach_clf.predict(valid_images)\n",
    "poly_accuracy = accuracy_score(valid_labels, poly_pred)\n",
    "poly_f1 = f1_score(valid_labels, poly_pred, average='weighted')\n",
    "print('Accuracy (Polynomial Kernel): ', \"%.2f\" % (poly_accuracy*100))\n",
    "print('F1 (Polynomial Kernel): ', \"%.2f\" % (poly_f1*100))"
   ]
  },
  {
   "cell_type": "code",
   "execution_count": 80,
   "metadata": {},
   "outputs": [
    {
     "name": "stdout",
     "output_type": "stream",
     "text": [
      "Accuracy (Polynomial Kernel):  98.68\n",
      "F1 (Polynomial Kernel):  98.66\n"
     ]
    },
    {
     "data": {
      "text/plain": [
       "['models/peach.joblib']"
      ]
     },
     "execution_count": 80,
     "metadata": {},
     "output_type": "execute_result"
    }
   ],
   "source": [
    "peach_clf = voting_clf.fit(train_valid_images, train_valid_labels)\n",
    "poly_pred = peach_clf.predict(test_images)\n",
    "poly_accuracy = accuracy_score(test_labels, poly_pred)\n",
    "poly_f1 = f1_score(test_labels, poly_pred, average='weighted')\n",
    "print('Accuracy (Polynomial Kernel): ', \"%.2f\" % (poly_accuracy*100))\n",
    "print('F1 (Polynomial Kernel): ', \"%.2f\" % (poly_f1*100))\n",
    "\n",
    "peach_file_name = \"models/peach.joblib\"\n",
    "joblib.dump(peach_clf, peach_file_name)"
   ]
  },
  {
   "cell_type": "code",
   "execution_count": 88,
   "metadata": {},
   "outputs": [
    {
     "name": "stdout",
     "output_type": "stream",
     "text": [
      "Accuracy (Polynomial Kernel):  99.49\n",
      "F1 (Polynomial Kernel):  99.49\n"
     ]
    }
   ],
   "source": [
    "### pepper\n",
    "voting_clf = RandomForestClassifier(max_depth=60, random_state=0)\n",
    "pepper_clf = voting_clf.fit(train_images, train_labels)\n",
    "poly_pred = pepper_clf.predict(valid_images)\n",
    "poly_accuracy = accuracy_score(valid_labels, poly_pred)\n",
    "poly_f1 = f1_score(valid_labels, poly_pred, average='weighted')\n",
    "print('Accuracy (Polynomial Kernel): ', \"%.2f\" % (poly_accuracy*100))\n",
    "print('F1 (Polynomial Kernel): ', \"%.2f\" % (poly_f1*100))"
   ]
  },
  {
   "cell_type": "code",
   "execution_count": 89,
   "metadata": {},
   "outputs": [
    {
     "name": "stdout",
     "output_type": "stream",
     "text": [
      "Accuracy (Polynomial Kernel):  99.60\n",
      "F1 (Polynomial Kernel):  99.60\n"
     ]
    },
    {
     "data": {
      "text/plain": [
       "['models/pepper.joblib']"
      ]
     },
     "execution_count": 89,
     "metadata": {},
     "output_type": "execute_result"
    }
   ],
   "source": [
    "pepper_clf = voting_clf.fit(train_valid_images, train_valid_labels)\n",
    "poly_pred = pepper_clf.predict(test_images)\n",
    "poly_accuracy = accuracy_score(test_labels, poly_pred)\n",
    "poly_f1 = f1_score(test_labels, poly_pred, average='weighted')\n",
    "print('Accuracy (Polynomial Kernel): ', \"%.2f\" % (poly_accuracy*100))\n",
    "print('F1 (Polynomial Kernel): ', \"%.2f\" % (poly_f1*100))\n",
    "\n",
    "pepper_file_name = \"models/pepper.joblib\"\n",
    "joblib.dump(pepper_clf, pepper_file_name)"
   ]
  },
  {
   "cell_type": "code",
   "execution_count": 105,
   "metadata": {},
   "outputs": [
    {
     "name": "stdout",
     "output_type": "stream",
     "text": [
      "Accuracy (Polynomial Kernel):  93.91\n",
      "F1 (Polynomial Kernel):  93.86\n"
     ]
    }
   ],
   "source": [
    "### potato\n",
    "voting_clf = RandomForestClassifier(max_depth=60, random_state=0)\n",
    "potato_clf = voting_clf.fit(train_images, train_labels)\n",
    "poly_pred = potato_clf.predict(valid_images)\n",
    "poly_accuracy = accuracy_score(valid_labels, poly_pred)\n",
    "poly_f1 = f1_score(valid_labels, poly_pred, average='weighted')\n",
    "print('Accuracy (Polynomial Kernel): ', \"%.2f\" % (poly_accuracy*100))\n",
    "print('F1 (Polynomial Kernel): ', \"%.2f\" % (poly_f1*100))"
   ]
  },
  {
   "cell_type": "code",
   "execution_count": 106,
   "metadata": {},
   "outputs": [
    {
     "name": "stdout",
     "output_type": "stream",
     "text": [
      "Accuracy (Polynomial Kernel):  96.98\n",
      "F1 (Polynomial Kernel):  96.98\n"
     ]
    },
    {
     "data": {
      "text/plain": [
       "['models/potato.joblib']"
      ]
     },
     "execution_count": 106,
     "metadata": {},
     "output_type": "execute_result"
    }
   ],
   "source": [
    "potato_clf = voting_clf.fit(train_valid_images, train_valid_labels)\n",
    "poly_pred = potato_clf.predict(test_images)\n",
    "poly_accuracy = accuracy_score(test_labels, poly_pred)\n",
    "poly_f1 = f1_score(test_labels, poly_pred, average='weighted')\n",
    "print('Accuracy (Polynomial Kernel): ', \"%.2f\" % (poly_accuracy*100))\n",
    "print('F1 (Polynomial Kernel): ', \"%.2f\" % (poly_f1*100))\n",
    "\n",
    "potato_file_name = \"models/potato.joblib\"\n",
    "joblib.dump(potato_clf, potato_file_name)"
   ]
  },
  {
   "cell_type": "code",
   "execution_count": 113,
   "metadata": {},
   "outputs": [
    {
     "name": "stdout",
     "output_type": "stream",
     "text": [
      "Accuracy (Polynomial Kernel):  100.00\n",
      "F1 (Polynomial Kernel):  100.00\n"
     ]
    }
   ],
   "source": [
    "### Strawberry\n",
    "voting_clf = RandomForestClassifier(max_depth=60, random_state=0)\n",
    "Strawberry_clf = voting_clf.fit(train_images, train_labels)\n",
    "poly_pred = Strawberry_clf.predict(valid_images)\n",
    "poly_accuracy = accuracy_score(valid_labels, poly_pred)\n",
    "poly_f1 = f1_score(valid_labels, poly_pred, average='weighted')\n",
    "print('Accuracy (Polynomial Kernel): ', \"%.2f\" % (poly_accuracy*100))\n",
    "print('F1 (Polynomial Kernel): ', \"%.2f\" % (poly_f1*100))"
   ]
  },
  {
   "cell_type": "code",
   "execution_count": 114,
   "metadata": {},
   "outputs": [
    {
     "name": "stdout",
     "output_type": "stream",
     "text": [
      "Accuracy (Polynomial Kernel):  100.00\n",
      "F1 (Polynomial Kernel):  100.00\n"
     ]
    },
    {
     "data": {
      "text/plain": [
       "['models/strawberry.joblib']"
      ]
     },
     "execution_count": 114,
     "metadata": {},
     "output_type": "execute_result"
    }
   ],
   "source": [
    "Strawberry_clf = voting_clf.fit(train_valid_images, train_valid_labels)\n",
    "poly_pred = Strawberry_clf.predict(test_images)\n",
    "poly_accuracy = accuracy_score(test_labels, poly_pred)\n",
    "poly_f1 = f1_score(test_labels, poly_pred, average='weighted')\n",
    "print('Accuracy (Polynomial Kernel): ', \"%.2f\" % (poly_accuracy*100))\n",
    "print('F1 (Polynomial Kernel): ', \"%.2f\" % (poly_f1*100))\n",
    "\n",
    "Strawberry_file_name = \"models/strawberry.joblib\"\n",
    "joblib.dump(Strawberry_clf, Strawberry_file_name)"
   ]
  },
  {
   "cell_type": "code",
   "execution_count": 69,
   "metadata": {},
   "outputs": [
    {
     "name": "stdout",
     "output_type": "stream",
     "text": [
      "Accuracy (Polynomial Kernel):  94.05\n",
      "F1 (Polynomial Kernel):  93.98\n"
     ]
    }
   ],
   "source": [
    "### Tomato\n",
    "voting_clf = RandomForestClassifier(max_depth=60, random_state=0)\n",
    "Tomato_clf = voting_clf.fit(train_images, train_labels)\n",
    "poly_pred = Tomato_clf.predict(valid_images)\n",
    "poly_accuracy = accuracy_score(valid_labels, poly_pred)\n",
    "poly_f1 = f1_score(valid_labels, poly_pred, average='weighted')\n",
    "print('Accuracy (Polynomial Kernel): ', \"%.2f\" % (poly_accuracy*100))\n",
    "print('F1 (Polynomial Kernel): ', \"%.2f\" % (poly_f1*100))"
   ]
  },
  {
   "cell_type": "code",
   "execution_count": 73,
   "metadata": {},
   "outputs": [
    {
     "name": "stdout",
     "output_type": "stream",
     "text": [
      "Accuracy (Polynomial Kernel):  94.30\n",
      "F1 (Polynomial Kernel):  94.25\n"
     ]
    },
    {
     "data": {
      "text/plain": [
       "['models/Tomato.joblib']"
      ]
     },
     "execution_count": 73,
     "metadata": {},
     "output_type": "execute_result"
    }
   ],
   "source": [
    "Tomato_clf = voting_clf.fit(train_valid_images, train_valid_labels)\n",
    "poly_pred = Tomato_clf.predict(test_images)\n",
    "poly_accuracy = accuracy_score(test_labels, poly_pred)\n",
    "poly_f1 = f1_score(test_labels, poly_pred, average='weighted')\n",
    "print('Accuracy (Polynomial Kernel): ', \"%.2f\" % (poly_accuracy*100))\n",
    "print('F1 (Polynomial Kernel): ', \"%.2f\" % (poly_f1*100))\n",
    "\n",
    "Tomato_file_name = \"models/Tomato.joblib\"\n",
    "joblib.dump(Tomato_clf, Tomato_file_name)"
   ]
  }
 ],
 "metadata": {
  "interpreter": {
   "hash": "369f2c481f4da34e4445cda3fffd2e751bd1c4d706f27375911949ba6bb62e1c"
  },
  "kernelspec": {
   "display_name": "Python 3.10.1 64-bit",
   "language": "python",
   "name": "python3"
  },
  "language_info": {
   "codemirror_mode": {
    "name": "ipython",
    "version": 3
   },
   "file_extension": ".py",
   "mimetype": "text/x-python",
   "name": "python",
   "nbconvert_exporter": "python",
   "pygments_lexer": "ipython3",
   "version": "3.10.1"
  }
 },
 "nbformat": 4,
 "nbformat_minor": 4
}
